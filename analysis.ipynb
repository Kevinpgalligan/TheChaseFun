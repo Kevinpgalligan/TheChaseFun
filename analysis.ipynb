{
 "cells": [
  {
   "cell_type": "markdown",
   "metadata": {},
   "source": [
    "## TODO\n",
    "1. Error bars on cashbuilder by chaser graph.\n",
    "2. Hypothesis tests for cashbuilder / season progress questions.\n",
    "3. Ask one of the Chasers on Twitter how the offers are calculated. (The producers probably want to keep it \"mysterious\", but who knows).\n",
    "4. Predict: player likelihood of winning, P(W|C=£5000).\n",
    "5. Predict: team likelihood of winning in the final chase.\n",
    "6. Use this to get expected loss of the show, how much do they aim to lose."
   ]
  },
  {
   "cell_type": "markdown",
   "metadata": {},
   "source": [
    "## Imports / config"
   ]
  },
  {
   "cell_type": "code",
   "execution_count": 40,
   "metadata": {},
   "outputs": [],
   "source": [
    "import pandas as pd\n",
    "import re\n",
    "import collections\n",
    "import matplotlib.pyplot as plt\n",
    "import matplotlib.cm as cm\n",
    "import math\n",
    "import numpy as np\n",
    "from sklearn.linear_model import LinearRegression\n",
    "\n",
    "plt.style.use('ggplot')"
   ]
  },
  {
   "cell_type": "markdown",
   "metadata": {},
   "source": [
    "## Useful common stuff"
   ]
  },
  {
   "cell_type": "code",
   "execution_count": 2,
   "metadata": {},
   "outputs": [],
   "source": [
    "CHASERS = [\n",
    "    \"Mark Labbett\",\n",
    "    \"Shaun Wallace\",\n",
    "    \"Jenny Ryan\",\n",
    "    \"Paul Sinha\",\n",
    "    \"Anne Hegerty\"\n",
    "]"
   ]
  },
  {
   "cell_type": "markdown",
   "metadata": {},
   "source": [
    "## Load the data"
   ]
  },
  {
   "cell_type": "code",
   "execution_count": 3,
   "metadata": {},
   "outputs": [],
   "source": [
    "episodes = pd.read_csv(\"episodes.csv\", sep=\";\")\n",
    "episodes.rename(\n",
    "    columns={\n",
    "        \"First air date\": \"AirDate\",\n",
    "        \"Amount banked\": \"Banked\",\n",
    "        \"Won head-to-head\": \"WonHeadToHead\"},\n",
    "    inplace=True)\n",
    "episodes.loc[episodes['Result'].str.contains('Chaser'), 'ChaserWin'] = True\n",
    "episodes.loc[episodes['Result'].str.contains('Team'), 'ChaserWin'] = False\n",
    "episodes.drop(\n",
    "    columns=[\"Result\", \"PushbacksTaken\", \"PushbacksOffered\",\n",
    "             \"Pushforwards\", \"Players\", \"Accuracy\",\n",
    "             \"Speed\", \"WonHeadToHead\", \"Banked\", \"Target\"],\n",
    "    inplace=True)"
   ]
  },
  {
   "cell_type": "code",
   "execution_count": 4,
   "metadata": {},
   "outputs": [],
   "source": [
    "hth = pd.read_csv(\"hth.csv\", sep=\",\")\n",
    "hth.loc[hth[\"HTH_Result\"] == 0, \"Escaped\"] = False\n",
    "hth.loc[hth[\"HTH_Result\"] == 1, \"Escaped\"] = True\n",
    "OFFER_REGEX = re.compile(r\"-?£[0-9]+(,[0-9]*)?\\.[0-9]{2}\")\n",
    "def convert_offer(offer):\n",
    "    if isinstance(offer, float):\n",
    "        return offer\n",
    "    assert OFFER_REGEX.match(offer) is not None\n",
    "    offer = offer.replace(\"£\", \"\")\n",
    "    offer = offer.replace(\",\", \"\")\n",
    "    offer = re.sub('\\.[0-9]{2}$', '', offer)\n",
    "    return float(offer)\n",
    "for i, row in hth.iterrows():\n",
    "    hth.at[i, \"LowerOffer\"] = convert_offer(hth.at[i, \"HTH_LowerOffer\"])\n",
    "    hth.at[i, \"HigherOffer\"] = convert_offer(hth.at[i, \"HTH_HigherOffer\"])\n",
    "    if hth.at[i, \"HTH_OptionChosen\"].startswith(\"Lower\"):\n",
    "        option = \"low\"\n",
    "    elif hth.at[i, \"HTH_OptionChosen\"].startswith(\"Middle\"):\n",
    "        option = \"mid\"\n",
    "    elif hth.at[i, \"HTH_OptionChosen\"].startswith(\"Higher\"):\n",
    "        option = \"high\"\n",
    "    else:\n",
    "        raise Exception(\"Ruh roh\")\n",
    "    hth.at[i, \"OptionChosen\"] = option\n",
    "hth.drop(\n",
    "    columns=[\"First air date\",\n",
    "             \"HTH_Chaser\",\n",
    "             \"Name\",\n",
    "             \"HTH_Result\",\n",
    "             \"HTH_LowerOffer\",\n",
    "             \"HTH_HigherOffer\",\n",
    "             \"HTH_OptionChosen\",\n",
    "             \"HTH_OfferChosen\"],\n",
    "    inplace=True)\n",
    "hth.rename(\n",
    "    columns={\n",
    "        \"Cash builder\": \"CashBuilder\"},\n",
    "    inplace=True)"
   ]
  },
  {
   "cell_type": "markdown",
   "metadata": {},
   "source": [
    "## Validate"
   ]
  },
  {
   "cell_type": "code",
   "execution_count": 5,
   "metadata": {},
   "outputs": [],
   "source": [
    "def assert_no_nans(df, name):\n",
    "    assert df[name].isna().sum() == 0, f\"NaN detected in column {name}\"\n",
    "for name in [\"AirDate\", \"Series\", \"Episode\", \"Chaser\", \"ChaserWin\"]:\n",
    "    assert name in episodes.columns, f\"Missing column {name}\"\n",
    "    assert_no_nans(episodes, name)\n",
    "# Sometimes, no lower offer is made, so we can expect NaNs in that column.\n",
    "for name in [\"Series\", \"Episode\", \"Player\", \"CashBuilder\", \"Escaped\", \"HigherOffer\", \"OptionChosen\"]:\n",
    "    assert name in hth.columns, f\"Missing column {name}\"\n",
    "    assert_no_nans(hth, name)\n",
    "for chaser in episodes[\"Chaser\"]:\n",
    "    assert chaser in CHASERS, f\"Unknown chaser '{chaser}' :_(\""
   ]
  },
  {
   "cell_type": "markdown",
   "metadata": {},
   "source": [
    "## Remove early seasons\n",
    "Cash builders / the format of the game have been consistent since season 6 onwards, according to: http://www.onequestionshootout.xyz/stats/cashbuilders.htm\n",
    "\n",
    "So just gonna remove the ones before that."
   ]
  },
  {
   "cell_type": "code",
   "execution_count": 6,
   "metadata": {},
   "outputs": [],
   "source": [
    "def remove_seasons_1_to_5(df):\n",
    "    df.drop(df[df.Series <= 5].index, inplace=True)\n",
    "remove_seasons_1_to_5(episodes)\n",
    "remove_seasons_1_to_5(hth)"
   ]
  },
  {
   "cell_type": "markdown",
   "metadata": {},
   "source": [
    "## Take a look"
   ]
  },
  {
   "cell_type": "code",
   "execution_count": 7,
   "metadata": {},
   "outputs": [
    {
     "data": {
      "text/html": [
       "<div>\n",
       "<style scoped>\n",
       "    .dataframe tbody tr th:only-of-type {\n",
       "        vertical-align: middle;\n",
       "    }\n",
       "\n",
       "    .dataframe tbody tr th {\n",
       "        vertical-align: top;\n",
       "    }\n",
       "\n",
       "    .dataframe thead th {\n",
       "        text-align: right;\n",
       "    }\n",
       "</style>\n",
       "<table border=\"1\" class=\"dataframe\">\n",
       "  <thead>\n",
       "    <tr style=\"text-align: right;\">\n",
       "      <th></th>\n",
       "      <th>AirDate</th>\n",
       "      <th>Series</th>\n",
       "      <th>Episode</th>\n",
       "      <th>Chaser</th>\n",
       "      <th>ChaserWin</th>\n",
       "    </tr>\n",
       "  </thead>\n",
       "  <tbody>\n",
       "    <tr>\n",
       "      <th>268</th>\n",
       "      <td>29/10/2012</td>\n",
       "      <td>6</td>\n",
       "      <td>1</td>\n",
       "      <td>Mark Labbett</td>\n",
       "      <td>False</td>\n",
       "    </tr>\n",
       "    <tr>\n",
       "      <th>269</th>\n",
       "      <td>30/10/2012</td>\n",
       "      <td>6</td>\n",
       "      <td>2</td>\n",
       "      <td>Paul Sinha</td>\n",
       "      <td>True</td>\n",
       "    </tr>\n",
       "    <tr>\n",
       "      <th>270</th>\n",
       "      <td>31/10/2012</td>\n",
       "      <td>6</td>\n",
       "      <td>3</td>\n",
       "      <td>Anne Hegerty</td>\n",
       "      <td>True</td>\n",
       "    </tr>\n",
       "    <tr>\n",
       "      <th>271</th>\n",
       "      <td>01/11/2012</td>\n",
       "      <td>6</td>\n",
       "      <td>4</td>\n",
       "      <td>Shaun Wallace</td>\n",
       "      <td>False</td>\n",
       "    </tr>\n",
       "    <tr>\n",
       "      <th>272</th>\n",
       "      <td>02/11/2012</td>\n",
       "      <td>6</td>\n",
       "      <td>5</td>\n",
       "      <td>Mark Labbett</td>\n",
       "      <td>True</td>\n",
       "    </tr>\n",
       "    <tr>\n",
       "      <th>...</th>\n",
       "      <td>...</td>\n",
       "      <td>...</td>\n",
       "      <td>...</td>\n",
       "      <td>...</td>\n",
       "      <td>...</td>\n",
       "    </tr>\n",
       "    <tr>\n",
       "      <th>1551</th>\n",
       "      <td>16/03/2020</td>\n",
       "      <td>13</td>\n",
       "      <td>77</td>\n",
       "      <td>Jenny Ryan</td>\n",
       "      <td>True</td>\n",
       "    </tr>\n",
       "    <tr>\n",
       "      <th>1552</th>\n",
       "      <td>17/03/2020</td>\n",
       "      <td>13</td>\n",
       "      <td>46</td>\n",
       "      <td>Mark Labbett</td>\n",
       "      <td>True</td>\n",
       "    </tr>\n",
       "    <tr>\n",
       "      <th>1553</th>\n",
       "      <td>18/03/2020</td>\n",
       "      <td>13</td>\n",
       "      <td>79</td>\n",
       "      <td>Paul Sinha</td>\n",
       "      <td>True</td>\n",
       "    </tr>\n",
       "    <tr>\n",
       "      <th>1554</th>\n",
       "      <td>19/03/2020</td>\n",
       "      <td>13</td>\n",
       "      <td>80</td>\n",
       "      <td>Anne Hegerty</td>\n",
       "      <td>True</td>\n",
       "    </tr>\n",
       "    <tr>\n",
       "      <th>1555</th>\n",
       "      <td>20/03/2020</td>\n",
       "      <td>13</td>\n",
       "      <td>81</td>\n",
       "      <td>Shaun Wallace</td>\n",
       "      <td>True</td>\n",
       "    </tr>\n",
       "  </tbody>\n",
       "</table>\n",
       "<p>1287 rows × 5 columns</p>\n",
       "</div>"
      ],
      "text/plain": [
       "         AirDate  Series  Episode         Chaser  ChaserWin\n",
       "268   29/10/2012       6        1   Mark Labbett      False\n",
       "269   30/10/2012       6        2     Paul Sinha       True\n",
       "270   31/10/2012       6        3   Anne Hegerty       True\n",
       "271   01/11/2012       6        4  Shaun Wallace      False\n",
       "272   02/11/2012       6        5   Mark Labbett       True\n",
       "...          ...     ...      ...            ...        ...\n",
       "1551  16/03/2020      13       77     Jenny Ryan       True\n",
       "1552  17/03/2020      13       46   Mark Labbett       True\n",
       "1553  18/03/2020      13       79     Paul Sinha       True\n",
       "1554  19/03/2020      13       80   Anne Hegerty       True\n",
       "1555  20/03/2020      13       81  Shaun Wallace       True\n",
       "\n",
       "[1287 rows x 5 columns]"
      ]
     },
     "execution_count": 7,
     "metadata": {},
     "output_type": "execute_result"
    }
   ],
   "source": [
    "episodes"
   ]
  },
  {
   "cell_type": "code",
   "execution_count": 8,
   "metadata": {},
   "outputs": [
    {
     "data": {
      "text/html": [
       "<div>\n",
       "<style scoped>\n",
       "    .dataframe tbody tr th:only-of-type {\n",
       "        vertical-align: middle;\n",
       "    }\n",
       "\n",
       "    .dataframe tbody tr th {\n",
       "        vertical-align: top;\n",
       "    }\n",
       "\n",
       "    .dataframe thead th {\n",
       "        text-align: right;\n",
       "    }\n",
       "</style>\n",
       "<table border=\"1\" class=\"dataframe\">\n",
       "  <thead>\n",
       "    <tr style=\"text-align: right;\">\n",
       "      <th></th>\n",
       "      <th>Series</th>\n",
       "      <th>Episode</th>\n",
       "      <th>Player</th>\n",
       "      <th>CashBuilder</th>\n",
       "      <th>Escaped</th>\n",
       "      <th>LowerOffer</th>\n",
       "      <th>HigherOffer</th>\n",
       "      <th>OptionChosen</th>\n",
       "    </tr>\n",
       "  </thead>\n",
       "  <tbody>\n",
       "    <tr>\n",
       "      <th>1072</th>\n",
       "      <td>6</td>\n",
       "      <td>1</td>\n",
       "      <td>1</td>\n",
       "      <td>7</td>\n",
       "      <td>True</td>\n",
       "      <td>2000.0</td>\n",
       "      <td>25000.0</td>\n",
       "      <td>mid</td>\n",
       "    </tr>\n",
       "    <tr>\n",
       "      <th>1073</th>\n",
       "      <td>6</td>\n",
       "      <td>1</td>\n",
       "      <td>2</td>\n",
       "      <td>7</td>\n",
       "      <td>True</td>\n",
       "      <td>2000.0</td>\n",
       "      <td>35000.0</td>\n",
       "      <td>mid</td>\n",
       "    </tr>\n",
       "    <tr>\n",
       "      <th>1074</th>\n",
       "      <td>6</td>\n",
       "      <td>1</td>\n",
       "      <td>3</td>\n",
       "      <td>4</td>\n",
       "      <td>False</td>\n",
       "      <td>1000.0</td>\n",
       "      <td>35000.0</td>\n",
       "      <td>mid</td>\n",
       "    </tr>\n",
       "    <tr>\n",
       "      <th>1075</th>\n",
       "      <td>6</td>\n",
       "      <td>1</td>\n",
       "      <td>4</td>\n",
       "      <td>2</td>\n",
       "      <td>False</td>\n",
       "      <td>-2000.0</td>\n",
       "      <td>46000.0</td>\n",
       "      <td>low</td>\n",
       "    </tr>\n",
       "    <tr>\n",
       "      <th>1076</th>\n",
       "      <td>6</td>\n",
       "      <td>2</td>\n",
       "      <td>1</td>\n",
       "      <td>4</td>\n",
       "      <td>False</td>\n",
       "      <td>1000.0</td>\n",
       "      <td>20000.0</td>\n",
       "      <td>mid</td>\n",
       "    </tr>\n",
       "    <tr>\n",
       "      <th>...</th>\n",
       "      <td>...</td>\n",
       "      <td>...</td>\n",
       "      <td>...</td>\n",
       "      <td>...</td>\n",
       "      <td>...</td>\n",
       "      <td>...</td>\n",
       "      <td>...</td>\n",
       "      <td>...</td>\n",
       "    </tr>\n",
       "    <tr>\n",
       "      <th>6219</th>\n",
       "      <td>13</td>\n",
       "      <td>80</td>\n",
       "      <td>4</td>\n",
       "      <td>2</td>\n",
       "      <td>True</td>\n",
       "      <td>-2000.0</td>\n",
       "      <td>63000.0</td>\n",
       "      <td>low</td>\n",
       "    </tr>\n",
       "    <tr>\n",
       "      <th>6220</th>\n",
       "      <td>13</td>\n",
       "      <td>81</td>\n",
       "      <td>1</td>\n",
       "      <td>3</td>\n",
       "      <td>True</td>\n",
       "      <td>550.0</td>\n",
       "      <td>21000.0</td>\n",
       "      <td>mid</td>\n",
       "    </tr>\n",
       "    <tr>\n",
       "      <th>6221</th>\n",
       "      <td>13</td>\n",
       "      <td>81</td>\n",
       "      <td>2</td>\n",
       "      <td>7</td>\n",
       "      <td>True</td>\n",
       "      <td>1000.0</td>\n",
       "      <td>30000.0</td>\n",
       "      <td>mid</td>\n",
       "    </tr>\n",
       "    <tr>\n",
       "      <th>6222</th>\n",
       "      <td>13</td>\n",
       "      <td>81</td>\n",
       "      <td>3</td>\n",
       "      <td>2</td>\n",
       "      <td>False</td>\n",
       "      <td>-1000.0</td>\n",
       "      <td>40000.0</td>\n",
       "      <td>mid</td>\n",
       "    </tr>\n",
       "    <tr>\n",
       "      <th>6223</th>\n",
       "      <td>13</td>\n",
       "      <td>81</td>\n",
       "      <td>4</td>\n",
       "      <td>5</td>\n",
       "      <td>True</td>\n",
       "      <td>-4000.0</td>\n",
       "      <td>65000.0</td>\n",
       "      <td>mid</td>\n",
       "    </tr>\n",
       "  </tbody>\n",
       "</table>\n",
       "<p>5148 rows × 8 columns</p>\n",
       "</div>"
      ],
      "text/plain": [
       "      Series  Episode  Player  CashBuilder  Escaped  LowerOffer  HigherOffer  \\\n",
       "1072       6        1       1            7     True      2000.0      25000.0   \n",
       "1073       6        1       2            7     True      2000.0      35000.0   \n",
       "1074       6        1       3            4    False      1000.0      35000.0   \n",
       "1075       6        1       4            2    False     -2000.0      46000.0   \n",
       "1076       6        2       1            4    False      1000.0      20000.0   \n",
       "...      ...      ...     ...          ...      ...         ...          ...   \n",
       "6219      13       80       4            2     True     -2000.0      63000.0   \n",
       "6220      13       81       1            3     True       550.0      21000.0   \n",
       "6221      13       81       2            7     True      1000.0      30000.0   \n",
       "6222      13       81       3            2    False     -1000.0      40000.0   \n",
       "6223      13       81       4            5     True     -4000.0      65000.0   \n",
       "\n",
       "     OptionChosen  \n",
       "1072          mid  \n",
       "1073          mid  \n",
       "1074          mid  \n",
       "1075          low  \n",
       "1076          mid  \n",
       "...           ...  \n",
       "6219          low  \n",
       "6220          mid  \n",
       "6221          mid  \n",
       "6222          mid  \n",
       "6223          mid  \n",
       "\n",
       "[5148 rows x 8 columns]"
      ]
     },
     "execution_count": 8,
     "metadata": {},
     "output_type": "execute_result"
    }
   ],
   "source": [
    "hth"
   ]
  },
  {
   "cell_type": "markdown",
   "metadata": {},
   "source": [
    "## Which chaser is \"most bankable\"?"
   ]
  },
  {
   "cell_type": "code",
   "execution_count": 9,
   "metadata": {},
   "outputs": [],
   "source": [
    "chaser_by_episode = {}\n",
    "for i, row in episodes.iterrows():\n",
    "    chaser_by_episode[(row[\"Series\"], row[\"Episode\"])] = row[\"Chaser\"]\n",
    "results = []\n",
    "for chaser in CHASERS:\n",
    "    count_by_cash = collections.defaultdict(int)\n",
    "    sum_by_cash = collections.defaultdict(int)\n",
    "    for i, row in hth.iterrows():\n",
    "        if (chaser_by_episode[(row[\"Series\"], row[\"Episode\"])] == chaser\n",
    "                and row[\"Player\"] == 1):\n",
    "            cash = row[\"CashBuilder\"]\n",
    "            count_by_cash[cash] += 1\n",
    "            sum_by_cash[cash] += row[\"HigherOffer\"]\n",
    "    avg_by_cash = {}\n",
    "    for cash in count_by_cash:\n",
    "        avg_by_cash[cash] = sum_by_cash[cash] / count_by_cash[cash]\n",
    "    results.append((chaser, avg_by_cash))"
   ]
  },
  {
   "cell_type": "code",
   "execution_count": 10,
   "metadata": {},
   "outputs": [
    {
     "data": {
      "image/png": "[encoded data removed]",
      "text/plain": [
       "<Figure size 576x432 with 1 Axes>"
      ]
     },
     "metadata": {},
     "output_type": "display_data"
    }
   ],
   "source": [
    "fig, ax = plt.subplots(figsize=(8,6))\n",
    "for i, (chaser, avg_by_cash) in enumerate(results):\n",
    "    pairs = list(avg_by_cash.items())\n",
    "    pairs.sort(key=lambda pair: pair[0])\n",
    "    plt.plot(\n",
    "        [cash for cash, avg in pairs],\n",
    "        [avg for cash, avg in pairs],\n",
    "        label=chaser,\n",
    "        marker='o',\n",
    "        linestyle='dashed')\n",
    "plt.legend()\n",
    "plt.ylim(bottom=0)\n",
    "plt.xlabel(\"Correct Cashbuilder Questions\")\n",
    "plt.ylabel(\"High Offer (£)\")\n",
    "plt.savefig(\"high-offers.png\")"
   ]
  },
  {
   "cell_type": "markdown",
   "metadata": {},
   "source": [
    "## Do offers change over the course of the season?"
   ]
  },
  {
   "cell_type": "code",
   "execution_count": 15,
   "metadata": {},
   "outputs": [],
   "source": [
    "num_episodes_by_season = {}\n",
    "for s in range(6, 14):\n",
    "    num_episodes_by_season[s] = max(\n",
    "        episodes.loc[episodes[\"Series\"] == s, \"Episode\"])\n",
    "offers_by_frac_through_season = collections.defaultdict(list)\n",
    "for i, row in hth.iterrows():\n",
    "    fraction_through_season = row[\"Episode\"] / num_episodes_by_season[row[\"Series\"]]\n",
    "    key = math.floor(fraction_through_season / 0.2001)\n",
    "    offers_by_frac_through_season[key].append(row[\"HigherOffer\"])"
   ]
  },
  {
   "cell_type": "code",
   "execution_count": 16,
   "metadata": {},
   "outputs": [
    {
     "data": {
      "image/png": "[encoded data removed]",
      "text/plain": [
       "<Figure size 576x432 with 1 Axes>"
      ]
     },
     "metadata": {},
     "output_type": "display_data"
    }
   ],
   "source": [
    "# Divided offers into 5 buckets based on how far they are into\n",
    "# the season. Now do a boxplot of the offers in each bucket.\n",
    "fig, ax = plt.subplots(figsize=(8,6))\n",
    "data = list(offers_by_frac_through_season.items())\n",
    "data.sort(key=lambda pair: pair[0])\n",
    "plt.boxplot(\n",
    "    [pair[1] for pair in data],\n",
    "    positions=[0, 1, 2, 3, 4],\n",
    "    labels=['0-20%', '20-40%', '40-60%', '60-80%', '80-100%'])\n",
    "plt.xlabel(\"Percentage through season\")\n",
    "plt.ylabel(\"High offer (£)\")\n",
    "plt.savefig(\"offers-over-season.png\")"
   ]
  },
  {
   "cell_type": "markdown",
   "metadata": {},
   "source": [
    "#### Hypothesis test\n",
    "Fit a linear regression model:\n",
    "\n",
    "    offer_i = B0 + B1.S_i + B2.C_i + E_i\n",
    "\n",
    "...where offer_i is the amount offered for the i-th player, S_i is how far they were through the season (as a fraction), C_i is how much that player earned in the cash builder, and E_i is the error term that follows a normal distribution (we assume).\n",
    "\n",
    "If progress in the season doesn't influence the offer, then we expect B1=0. So that should be the basis of the hypothesis test."
   ]
  },
  {
   "cell_type": "code",
   "execution_count": 46,
   "metadata": {},
   "outputs": [
    {
     "name": "stdout",
     "output_type": "stream",
     "text": [
      "[[7.00000000e+00 6.71140940e-03]\n",
      " [7.00000000e+00 6.71140940e-03]\n",
      " [4.00000000e+00 6.71140940e-03]\n",
      " ...\n",
      " [7.00000000e+00 5.15923567e-01]\n",
      " [2.00000000e+00 5.15923567e-01]\n",
      " [5.00000000e+00 5.15923567e-01]]\n",
      "[25000. 35000. 35000. ... 30000. 40000. 65000.]\n"
     ]
    },
    {
     "data": {
      "text/plain": [
       "LinearRegression(copy_X=True, fit_intercept=True, n_jobs=None, normalize=False)"
      ]
     },
     "execution_count": 46,
     "metadata": {},
     "output_type": "execute_result"
    }
   ],
   "source": [
    "# Get data into the expected format.\n",
    "# TODO: filter so that it's only the first player.\n",
    "X = np.array(\n",
    "        pd.concat(\n",
    "            [hth[\"CashBuilder\"],\n",
    "             hth[[\"Series\", \"Episode\"]].apply(\n",
    "                 lambda row: row[\"Episode\"]/num_episodes_by_season[row[\"Series\"]],\n",
    "                 axis=1)],\n",
    "            axis=1))\n",
    "y = np.array(hth[\"HigherOffer\"])\n",
    "\n",
    "print(X)\n",
    "print(y)\n",
    "\n",
    "# Fit model.\n",
    "model = LinearRegression()\n",
    "model.fit(X, y)"
   ]
  },
  {
   "cell_type": "code",
   "execution_count": 50,
   "metadata": {},
   "outputs": [
    {
     "name": "stdout",
     "output_type": "stream",
     "text": [
      "[ 485.07165261 1967.90049026]\n",
      "33988.49124304707\n",
      "0.006187014577272664\n",
      "[37397.20019718]\n"
     ]
    }
   ],
   "source": [
    "print(model.coef_)\n",
    "print(model.intercept_)\n",
    "print(model.score(X, y))\n",
    "print(model.predict(X[:1, :]))"
   ]
  },
  {
   "cell_type": "code",
   "execution_count": 37,
   "metadata": {},
   "outputs": [
    {
     "name": "stdout",
     "output_type": "stream",
     "text": [
      "{6: 149, 7: 150, 8: 146, 9: 190, 10: 190, 11: 170, 12: 170, 13: 157}\n"
     ]
    }
   ],
   "source": [
    "print(num_episodes_by_season)"
   ]
  },
  {
   "cell_type": "code",
   "execution_count": null,
   "metadata": {},
   "outputs": [],
   "source": []
  }
 ],
 "metadata": {
  "kernelspec": {
   "display_name": "Python 3",
   "language": "python",
   "name": "python3"
  },
  "language_info": {
   "codemirror_mode": {
    "name": "ipython",
    "version": 3
   },
   "file_extension": ".py",
   "mimetype": "text/x-python",
   "name": "python",
   "nbconvert_exporter": "python",
   "pygments_lexer": "ipython3",
   "version": "3.6.9"
  }
 },
 "nbformat": 4,
 "nbformat_minor": 2
}
